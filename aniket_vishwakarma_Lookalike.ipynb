{
 "cells": [
  {
   "cell_type": "code",
   "execution_count": 1,
   "metadata": {},
   "outputs": [],
   "source": [
    "import pandas as pd\n",
    "from sklearn.preprocessing import StandardScaler\n",
    "from sklearn.metrics.pairwise import cosine_similarity"
   ]
  },
  {
   "cell_type": "code",
   "execution_count": 2,
   "metadata": {},
   "outputs": [],
   "source": [
    "customers = pd.read_csv('data/Customers.csv')\n",
    "products = pd.read_csv('data/Products.csv')\n",
    "transactions = pd.read_csv('data/Transactions.csv')"
   ]
  },
  {
   "cell_type": "code",
   "execution_count": 3,
   "metadata": {},
   "outputs": [],
   "source": [
    "customers.columns = customers.columns.str.strip().str.lower()\n",
    "products.columns = products.columns.str.strip().str.lower()\n",
    "transactions.columns = transactions.columns.str.strip().str.lower()\n"
   ]
  },
  {
   "cell_type": "code",
   "execution_count": 4,
   "metadata": {},
   "outputs": [],
   "source": [
    "products['price'] = pd.to_numeric(products['price'], errors='coerce')\n"
   ]
  },
  {
   "cell_type": "code",
   "execution_count": 5,
   "metadata": {},
   "outputs": [],
   "source": [
    "products = products.dropna(subset=['price'])\n"
   ]
  },
  {
   "cell_type": "code",
   "execution_count": 6,
   "metadata": {},
   "outputs": [
    {
     "name": "stdout",
     "output_type": "stream",
     "text": [
      "Products DataFrame:\n",
      "  productid              productname     category   price\n",
      "0      P001     ActiveWear Biography        Books  169.30\n",
      "1      P002    ActiveWear Smartwatch  Electronics  346.30\n",
      "2      P003  ComfortLiving Biography        Books   44.12\n",
      "3      P004            BookWorld Rug   Home Decor   95.69\n",
      "4      P005          TechPro T-Shirt     Clothing  429.31\n",
      "Index(['productid', 'productname', 'category', 'price'], dtype='object')\n"
     ]
    }
   ],
   "source": [
    "print(\"Products DataFrame:\")\n",
    "print(products.head())\n",
    "print(products.columns)"
   ]
  },
  {
   "cell_type": "code",
   "execution_count": 7,
   "metadata": {},
   "outputs": [],
   "source": [
    "merged_data = transactions.merge(customers, on='customerid').merge(products, on='productid')\n"
   ]
  },
  {
   "cell_type": "code",
   "execution_count": 8,
   "metadata": {},
   "outputs": [],
   "source": [
    "merged_data.rename(columns={'price_x': 'transaction_price', 'price_y': 'product_price'}, inplace=True)\n"
   ]
  },
  {
   "cell_type": "code",
   "execution_count": 9,
   "metadata": {},
   "outputs": [
    {
     "name": "stdout",
     "output_type": "stream",
     "text": [
      "Merged DataFrame:\n",
      "  transactionid customerid productid      transactiondate  quantity  \\\n",
      "0        T00001      C0199      P067  2024-08-25 12:38:23         1   \n",
      "1        T00112      C0146      P067  2024-05-27 22:23:54         1   \n",
      "2        T00166      C0127      P067  2024-04-25 07:38:55         1   \n",
      "3        T00272      C0087      P067  2024-03-26 22:55:37         2   \n",
      "4        T00363      C0070      P067  2024-03-21 15:10:10         3   \n",
      "\n",
      "   totalvalue  transaction_price     customername         region  signupdate  \\\n",
      "0      300.68             300.68   Andrea Jenkins         Europe  2022-12-03   \n",
      "1      300.68             300.68  Brittany Harvey           Asia  2024-09-04   \n",
      "2      300.68             300.68  Kathryn Stevens         Europe  2024-04-04   \n",
      "3      601.36             300.68  Travis Campbell  South America  2024-04-11   \n",
      "4      902.04             300.68    Timothy Perez         Europe  2022-03-15   \n",
      "\n",
      "                       productname     category  product_price  \n",
      "0  ComfortLiving Bluetooth Speaker  Electronics         300.68  \n",
      "1  ComfortLiving Bluetooth Speaker  Electronics         300.68  \n",
      "2  ComfortLiving Bluetooth Speaker  Electronics         300.68  \n",
      "3  ComfortLiving Bluetooth Speaker  Electronics         300.68  \n",
      "4  ComfortLiving Bluetooth Speaker  Electronics         300.68  \n",
      "Index(['transactionid', 'customerid', 'productid', 'transactiondate',\n",
      "       'quantity', 'totalvalue', 'transaction_price', 'customername', 'region',\n",
      "       'signupdate', 'productname', 'category', 'product_price'],\n",
      "      dtype='object')\n"
     ]
    }
   ],
   "source": [
    "print(\"Merged DataFrame:\")\n",
    "print(merged_data.head())\n",
    "print(merged_data.columns)"
   ]
  },
  {
   "cell_type": "code",
   "execution_count": 10,
   "metadata": {},
   "outputs": [],
   "source": [
    "user_profiles = merged_data.groupby('customerid').agg({\n",
    "    'totalvalue': 'sum',\n",
    "    'quantity': 'sum',\n",
    "    'product_price': 'mean'\n",
    "}).reset_index()\n"
   ]
  },
  {
   "cell_type": "code",
   "execution_count": 11,
   "metadata": {},
   "outputs": [],
   "source": [
    "scaler = StandardScaler()\n",
    "user_profiles_scaled = scaler.fit_transform(user_profiles.iloc[:, 1:])\n"
   ]
  },
  {
   "cell_type": "code",
   "execution_count": null,
   "metadata": {},
   "outputs": [],
   "source": [
    "similarities = cosine_similarity(user_profiles_scaled)\n",
    "similarity_df = pd.DataFrame(similarities, index=user_profiles['customerid'], columns=user_profiles['customerid'])\n"
   ]
  },
  {
   "cell_type": "code",
   "execution_count": null,
   "metadata": {},
   "outputs": [],
   "source": [
    "lookalike_results = {}\n",
    "for customer_id in user_profiles['customerid'][:20]:\n",
    "    similar_customers = similarity_df[customer_id].sort_values(ascending=False)[1:4]  # Top 3 excluding self\n",
    "    lookalike_results[customer_id] = list(zip(similar_customers.index, similar_customers.values))\n"
   ]
  },
  {
   "cell_type": "code",
   "execution_count": null,
   "metadata": {},
   "outputs": [],
   "source": [
    "lookalike_df = pd.DataFrame({\n",
    "    'customerid': lookalike_results.keys(),\n",
    "    'lookalikes': lookalike_results.values()\n",
    "})\n"
   ]
  },
  {
   "cell_type": "code",
   "execution_count": null,
   "metadata": {},
   "outputs": [],
   "source": [
    "lookalike_df.to_csv('Lookalike.csv', index=False)\n",
    "\n",
    "print(\"Lookalike recommendations saved to 'Lookalike.csv'.\")"
   ]
  }
 ],
 "metadata": {
  "kernelspec": {
   "display_name": "tensor",
   "language": "python",
   "name": "python3"
  },
  "language_info": {
   "codemirror_mode": {
    "name": "ipython",
    "version": 3
   },
   "file_extension": ".py",
   "mimetype": "text/x-python",
   "name": "python",
   "nbconvert_exporter": "python",
   "pygments_lexer": "ipython3",
   "version": "3.11.11"
  }
 },
 "nbformat": 4,
 "nbformat_minor": 2
}
